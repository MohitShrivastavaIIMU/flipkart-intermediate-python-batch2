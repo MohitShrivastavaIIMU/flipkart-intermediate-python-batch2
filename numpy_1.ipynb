{
 "cells": [
  {
   "cell_type": "code",
   "execution_count": 2,
   "metadata": {},
   "outputs": [
    {
     "name": "stdout",
     "output_type": "stream",
     "text": [
      "Hello World\n"
     ]
    }
   ],
   "source": [
    "print('Hello World')"
   ]
  },
  {
   "cell_type": "code",
   "execution_count": 4,
   "metadata": {},
   "outputs": [
    {
     "name": "stdout",
     "output_type": "stream",
     "text": [
      "0\n",
      "2\n",
      "4\n",
      "6\n",
      "8\n",
      "10\n",
      "12\n",
      "14\n",
      "16\n",
      "18\n",
      "20\n"
     ]
    }
   ],
   "source": [
    "for v in range(0, 21, 2):\n",
    "    print(v)"
   ]
  },
  {
   "cell_type": "code",
   "execution_count": 6,
   "metadata": {},
   "outputs": [],
   "source": [
    "import numpy as np"
   ]
  },
  {
   "cell_type": "code",
   "execution_count": 7,
   "metadata": {},
   "outputs": [],
   "source": [
    "marks = [10, 1, 10, 3, 4, 5, 10, 6, 7, 4, 5, 8, 2]"
   ]
  },
  {
   "cell_type": "code",
   "execution_count": 13,
   "metadata": {},
   "outputs": [
    {
     "name": "stdout",
     "output_type": "stream",
     "text": [
      "[10  1 10  3  4  5 10  6  7  4  5  8  2]\n",
      "<class 'numpy.ndarray'>\n",
      "1\n",
      "(13,)\n",
      "int8\n"
     ]
    }
   ],
   "source": [
    "# ndarray\n",
    "n1 = np.array(marks, dtype=np.int8)\n",
    "print(n1)\n",
    "print(type(n1))\n",
    "print(n1.ndim)\n",
    "print(n1.shape)\n",
    "print(n1.dtype)"
   ]
  },
  {
   "cell_type": "code",
   "execution_count": 18,
   "metadata": {},
   "outputs": [
    {
     "name": "stdout",
     "output_type": "stream",
     "text": [
      "10\n",
      "1\n",
      "2\n",
      "5\n",
      "[10  2]\n"
     ]
    }
   ],
   "source": [
    "# indexing\n",
    "print(n1[0])\n",
    "print(n1[1])\n",
    "print(n1[-1])\n",
    "print(n1[-3])\n",
    "\n",
    "# multiple indexing\n",
    "print(n1[[0, -1]])"
   ]
  },
  {
   "cell_type": "code",
   "execution_count": 20,
   "metadata": {},
   "outputs": [
    {
     "name": "stdout",
     "output_type": "stream",
     "text": [
      "[10  1 10  3  4  5 10  6  7  4  5  8  4]\n",
      "[ 0  1 10  3  4  5 10  6  7  4  5  8  0]\n"
     ]
    }
   ],
   "source": [
    "# indexing + modify\n",
    "n1[-1] = 4\n",
    "print(n1)\n",
    "\n",
    "n1[[0, -1]] = 0 # broadcast 0 to the 2 indexes\n",
    "print(n1)"
   ]
  },
  {
   "cell_type": "code",
   "execution_count": 25,
   "metadata": {},
   "outputs": [
    {
     "name": "stdout",
     "output_type": "stream",
     "text": [
      "[ 0  1 10  3  4  5 10  6  7  4  5  8  0]\n",
      "[ 0  1 10]\n",
      "[4 5 8 0]\n",
      "[ 0  1 10  3]\n"
     ]
    }
   ],
   "source": [
    "# slicing\n",
    "print(n1)\n",
    "print(n1[0:3])\n",
    "print(n1[-4:])\n",
    "print(n1[:4])"
   ]
  },
  {
   "cell_type": "code",
   "execution_count": 27,
   "metadata": {},
   "outputs": [
    {
     "name": "stdout",
     "output_type": "stream",
     "text": [
      "[ 0  1  0  0  0  5 10  6  7  4  5  8  0]\n"
     ]
    }
   ],
   "source": [
    "# slicing + modification\n",
    "n1[2:5] = 0 # broadcasting\n",
    "print(n1)"
   ]
  },
  {
   "cell_type": "code",
   "execution_count": 28,
   "metadata": {},
   "outputs": [
    {
     "name": "stdout",
     "output_type": "stream",
     "text": [
      "[10  1 10  3  4  5 10  6  7  4  5  8  2]\n"
     ]
    }
   ],
   "source": [
    "# arithmetic operations\n",
    "n2 = np.array(marks, dtype=np.int8)\n",
    "print(n2)"
   ]
  },
  {
   "cell_type": "code",
   "execution_count": 29,
   "metadata": {},
   "outputs": [
    {
     "name": "stdout",
     "output_type": "stream",
     "text": [
      "[9 0 9 2 3 4 9 5 6 3 4 7 1]\n"
     ]
    }
   ],
   "source": [
    "n3 = n2 - 1\n",
    "print(n3)"
   ]
  },
  {
   "cell_type": "code",
   "execution_count": 33,
   "metadata": {},
   "outputs": [
    {
     "name": "stdout",
     "output_type": "stream",
     "text": [
      "[10  1 10  3  4  5 10  6  7  4  5  8  2]\n",
      "[ True False  True False False False  True  True  True False False  True\n",
      " False]\n",
      "[ True  True  True False False False  True False False False False False\n",
      " False]\n"
     ]
    }
   ],
   "source": [
    "# relational operations\n",
    "print(n2)\n",
    "print(n2 > 5)\n",
    "print((n2 == 10) | (n2 < 2))"
   ]
  },
  {
   "cell_type": "code",
   "execution_count": 37,
   "metadata": {},
   "outputs": [
    {
     "name": "stdout",
     "output_type": "stream",
     "text": [
      "[10  1 10  3  4  5 10  6  7  4  5  8  2]\n",
      "[10 10 10  6  7  8]\n",
      "[10  1 10 10]\n"
     ]
    }
   ],
   "source": [
    "# filtering\n",
    "print(n2)\n",
    "# filter out all students who scored more than 5 marks\n",
    "n4 = n2[n2 > 5]\n",
    "print(n4)\n",
    "\n",
    "# filter out all students who scored 10 marks or less than 2\n",
    "n5 = n2[(n2 == 10) | (n2 < 2)]\n",
    "print(n5)"
   ]
  },
  {
   "cell_type": "code",
   "execution_count": 45,
   "metadata": {},
   "outputs": [
    {
     "name": "stdout",
     "output_type": "stream",
     "text": [
      "[10  1 10  3  4  5 10  6  7  4  5  8  2]\n",
      "1\n",
      "10\n",
      "5.769230769230769\n",
      "5.0\n",
      "2.9392266422373536\n",
      "8.639053254437869\n"
     ]
    }
   ],
   "source": [
    "# mathematics\n",
    "print(n2)\n",
    "print(n2.min())\n",
    "print(n2.max())\n",
    "print(n2.mean())\n",
    "print(np.median(n2))\n",
    "print(n2.std())\n",
    "print(n2.var())"
   ]
  },
  {
   "cell_type": "code",
   "execution_count": 47,
   "metadata": {},
   "outputs": [
    {
     "name": "stdout",
     "output_type": "stream",
     "text": [
      "[10 11 21 24 28 33 43 49 56 60 65 73 75]\n",
      "[       10        10       100       300      1200      6000     60000\n",
      "    360000   2520000  10080000  50400000 403200000 806400000]\n"
     ]
    }
   ],
   "source": [
    "print(n2.cumsum())\n",
    "print(n2.cumprod())"
   ]
  },
  {
   "cell_type": "code",
   "execution_count": 50,
   "metadata": {},
   "outputs": [
    {
     "name": "stdout",
     "output_type": "stream",
     "text": [
      "[ 1  2  3  4  4  5  5  6  7  8 10 10 10]\n"
     ]
    }
   ],
   "source": [
    "print(n2)\n",
    "n2.sort()"
   ]
  },
  {
   "cell_type": "code",
   "execution_count": 51,
   "metadata": {},
   "outputs": [
    {
     "name": "stdout",
     "output_type": "stream",
     "text": [
      "[ 1  2  3  4  4  5  5  6  7  8 10 10 10]\n"
     ]
    }
   ],
   "source": [
    "print(n2)"
   ]
  },
  {
   "cell_type": "code",
   "execution_count": 53,
   "metadata": {},
   "outputs": [
    {
     "name": "stdout",
     "output_type": "stream",
     "text": [
      "[ 1  2  3  4  5  6  7  8 10]\n"
     ]
    }
   ],
   "source": [
    "print(np.unique(n2))"
   ]
  },
  {
   "cell_type": "code",
   "execution_count": 56,
   "metadata": {},
   "outputs": [
    {
     "name": "stdout",
     "output_type": "stream",
     "text": [
      "[10  1 10  3  4  5 10  6  7  4  5  8  2]\n"
     ]
    }
   ],
   "source": [
    "n3 = np.array(marks, dtype=np.int8)\n",
    "print(n3)"
   ]
  },
  {
   "cell_type": "code",
   "execution_count": 58,
   "metadata": {},
   "outputs": [
    {
     "name": "stdout",
     "output_type": "stream",
     "text": [
      "[1 0 1 0 0 0 1 1 1 0 0 1 0]\n"
     ]
    }
   ],
   "source": [
    "n4 = np.where(n3 > 5, 1, 0)\n",
    "print(n4)"
   ]
  }
 ],
 "metadata": {
  "kernelspec": {
   "display_name": "Python 3",
   "language": "python",
   "name": "python3"
  },
  "language_info": {
   "codemirror_mode": {
    "name": "ipython",
    "version": 3
   },
   "file_extension": ".py",
   "mimetype": "text/x-python",
   "name": "python",
   "nbconvert_exporter": "python",
   "pygments_lexer": "ipython3",
   "version": "3.8.6"
  }
 },
 "nbformat": 4,
 "nbformat_minor": 4
}
