{
 "cells": [
  {
   "cell_type": "code",
   "execution_count": 1,
   "metadata": {},
   "outputs": [],
   "source": [
    "import numpy as np"
   ]
  },
  {
   "cell_type": "code",
   "execution_count": 2,
   "metadata": {},
   "outputs": [],
   "source": [
    "marks = [\n",
    "    [90, 93, 97],\n",
    "    [99, 84, 89],\n",
    "    [100, 98, 90]\n",
    "]"
   ]
  },
  {
   "cell_type": "code",
   "execution_count": 6,
   "metadata": {},
   "outputs": [
    {
     "name": "stdout",
     "output_type": "stream",
     "text": [
      "[[ 90  93  97]\n",
      " [ 99  84  89]\n",
      " [100  98  90]]\n",
      "<class 'numpy.ndarray'>\n",
      "2\n",
      "(3, 3)\n"
     ]
    }
   ],
   "source": [
    "n1 = np.array(marks)\n",
    "print(n1)\n",
    "print(type(n1))\n",
    "print(n1.ndim)\n",
    "print(n1.shape)"
   ]
  },
  {
   "cell_type": "code",
   "execution_count": 12,
   "metadata": {},
   "outputs": [
    {
     "name": "stdout",
     "output_type": "stream",
     "text": [
      "[100  98  90]\n",
      "98\n",
      "98\n"
     ]
    }
   ],
   "source": [
    "# indexing\n",
    "print(n1[-1])\n",
    "print(n1[-1][1]) # this way of doing in regular python is not optimal in numpy\n",
    "print(n1[-1, 1]) # optimal way of doing row + column indexing in numpy"
   ]
  },
  {
   "cell_type": "code",
   "execution_count": 14,
   "metadata": {},
   "outputs": [
    {
     "name": "stdout",
     "output_type": "stream",
     "text": [
      "[[ 99  84  89]\n",
      " [100  98  90]]\n",
      "[[ 99  84]\n",
      " [100  98]]\n"
     ]
    }
   ],
   "source": [
    "# slicing\n",
    "# the marks scored by the last 2 students of the class\n",
    "print(n1[-2:])\n",
    "\n",
    "# the Physics, Chemistry marks scored by the last 2 students of the class\n",
    "print(n1[-2:, :2])"
   ]
  },
  {
   "cell_type": "code",
   "execution_count": 16,
   "metadata": {},
   "outputs": [
    {
     "name": "stdout",
     "output_type": "stream",
     "text": [
      "[[90 97]\n",
      " [99 89]]\n"
     ]
    }
   ],
   "source": [
    "# slicing + indexing\n",
    "# the Physics, Maths marks scored by the first 2 students of the class\n",
    "print(n1[:2, [0, -1]])"
   ]
  },
  {
   "cell_type": "code",
   "execution_count": 17,
   "metadata": {},
   "outputs": [
    {
     "name": "stdout",
     "output_type": "stream",
     "text": [
      "[[ 90  93  97]\n",
      " [ 99  84  89]\n",
      " [100  98  90]]\n"
     ]
    }
   ],
   "source": [
    "print(n1)"
   ]
  },
  {
   "cell_type": "code",
   "execution_count": 18,
   "metadata": {},
   "outputs": [],
   "source": [
    "# deduct 1 in physics from every student of the class\n",
    "physics_deduct = n1 - [1, 0, 0]"
   ]
  },
  {
   "cell_type": "code",
   "execution_count": 19,
   "metadata": {},
   "outputs": [
    {
     "name": "stdout",
     "output_type": "stream",
     "text": [
      "[[89 93 97]\n",
      " [98 84 89]\n",
      " [99 98 90]]\n"
     ]
    }
   ],
   "source": [
    "print(physics_deduct)"
   ]
  },
  {
   "cell_type": "code",
   "execution_count": 21,
   "metadata": {},
   "outputs": [
    {
     "name": "stdout",
     "output_type": "stream",
     "text": [
      "[[ 90  93  97]\n",
      " [ 99  84  89]\n",
      " [100  98  90]]\n",
      "[[89 92 96]\n",
      " [99 84 89]\n",
      " [99 97 89]]\n"
     ]
    }
   ],
   "source": [
    "# deduct 1 in physics, maths from the first and last student of the class\n",
    "print(n1)\n",
    "n5 = n1 - [\n",
    "    [1],\n",
    "    [0],\n",
    "    [1]\n",
    "]\n",
    "print(n5)"
   ]
  },
  {
   "cell_type": "code",
   "execution_count": 26,
   "metadata": {},
   "outputs": [
    {
     "name": "stdout",
     "output_type": "stream",
     "text": [
      "[[ 90  93  97]\n",
      " [ 99  84  89]\n",
      " [100  98  90]]\n",
      "[280 272 288]\n",
      "[96.33333333 91.66666667 92.        ]\n"
     ]
    }
   ],
   "source": [
    "#statistics\n",
    "print(n1)\n",
    "print(n1.sum(axis=1))\n",
    "print(n1.mean(axis=0))"
   ]
  },
  {
   "cell_type": "code",
   "execution_count": 27,
   "metadata": {},
   "outputs": [
    {
     "name": "stdout",
     "output_type": "stream",
     "text": [
      "[[3 4]\n",
      " [5 2]]\n",
      "[[1 3]\n",
      " [6 2]]\n"
     ]
    }
   ],
   "source": [
    "m1 = np.array([\n",
    "    [3, 4],\n",
    "    [5, 2]\n",
    "])\n",
    "m2 = np.array([\n",
    "    [1, 3],\n",
    "    [6, 2]\n",
    "])\n",
    "print(m1)\n",
    "print(m2)"
   ]
  },
  {
   "cell_type": "code",
   "execution_count": 31,
   "metadata": {},
   "outputs": [
    {
     "name": "stdout",
     "output_type": "stream",
     "text": [
      "[[ 4  7]\n",
      " [11  4]]\n",
      "[[ 2  1]\n",
      " [-1  0]]\n",
      "[[ 3 12]\n",
      " [30  4]]\n",
      "[[27 17]\n",
      " [17 19]]\n"
     ]
    }
   ],
   "source": [
    "print(m1 + m2)\n",
    "print(m1 - m2)\n",
    "print(m1 * m2) # this is not matrix multiplication\n",
    "print(np.dot(m1, m2))"
   ]
  }
 ],
 "metadata": {
  "kernelspec": {
   "display_name": "Python 3",
   "language": "python",
   "name": "python3"
  },
  "language_info": {
   "codemirror_mode": {
    "name": "ipython",
    "version": 3
   },
   "file_extension": ".py",
   "mimetype": "text/x-python",
   "name": "python",
   "nbconvert_exporter": "python",
   "pygments_lexer": "ipython3",
   "version": "3.8.6"
  }
 },
 "nbformat": 4,
 "nbformat_minor": 4
}
